{
 "cells": [
  {
   "cell_type": "code",
   "execution_count": 25,
   "metadata": {},
   "outputs": [],
   "source": [
    "import pandas as pd\n",
    "import numpy as np\n",
    "import sqlite3"
   ]
  },
  {
   "cell_type": "code",
   "execution_count": 26,
   "metadata": {},
   "outputs": [],
   "source": [
    "conn = sqlite3.connect(r\"C:\\Users\\yashu\\OneDrive\\Desktop\\Github_Projects\\Credit_Card_Data_Visulization_Platform\\Final_Databases\\OriginalDatabase.db\")"
   ]
  },
  {
   "cell_type": "code",
   "execution_count": 27,
   "metadata": {},
   "outputs": [],
   "source": [
    "df = pd.read_sql(\"SELECT * FROM transactions\", conn)"
   ]
  },
  {
   "cell_type": "code",
   "execution_count": 28,
   "metadata": {},
   "outputs": [],
   "source": [
    "connnew = sqlite3.connect(r\"C:\\Users\\yashu\\Downloads\\Final_database.db\")"
   ]
  },
  {
   "cell_type": "code",
   "execution_count": 29,
   "metadata": {},
   "outputs": [],
   "source": [
    "df_new = pd.read_sql(\"SELECT * FROM transactions\", connnew)"
   ]
  },
  {
   "cell_type": "code",
   "execution_count": 30,
   "metadata": {},
   "outputs": [
    {
     "data": {
      "text/plain": [
       "Index(['Environment', 'TranId', 'TranTime', 'PostTime', 'TranType', 'TranRef',\n",
       "       'TxnAcctId', 'ATID', 'StateStatus', 'StatementDate', 'priority',\n",
       "       'PrimaryCurrencyCode', 'SecondaryCurrencyCode', 'TertiaryCurrencyCode',\n",
       "       'NetworkName', 'UniqueID', 'MessageTypeIdentifier', 'PAN_Hash',\n",
       "       'ProcCode', 'ProcCodeFromAccType', 'ProcCodeToAccType',\n",
       "       'TransactionAmount', 'TransmissionDateTime', 'SystemTraceAuditNumber',\n",
       "       'TimeLocalTransaction', 'DateLocalTransaction', 'MerchantType',\n",
       "       'RetrievalReferenceNumber', 'IResponseCode', 'ResponseCode',\n",
       "       'ApprovalCode', 'CardAcceptorTerminalID', 'CardAcceptorIdCode',\n",
       "       'AuthorizationResponseCode', 'EffectiveDate_ForAgeOff',\n",
       "       'TransactionLifeCycleUniqueID', 'AuthStatus',\n",
       "       'AcquiringInsitutionIDCode', 'ForwardingInsitutionIDCode',\n",
       "       'POSTransactionStatusInd', 'TxnCategory', 'TxnCode_Internal',\n",
       "       'PurgeDate', 'ResponseTranType', 'ResponseMTI', 'AdvReasonCode',\n",
       "       'NetwrkMgmtInfoCode', 'AVResponse', 'PostingRef', 'PhysicalSource',\n",
       "       'ReceivingInstIDCode', 'SettlementInstitutionIDCode', 'TerminalType',\n",
       "       'TxnSource', 'Field112', 'CalcOTB', 'AuthVarianceException',\n",
       "       'MsgIndicator', 'TxnSubCategory', 'AccountNumber', 'CardNumber4Digits',\n",
       "       'CashBackAmount', 'OutstandingAmount', 'NetworkReferenceNumber',\n",
       "       'BankNetReferenceNumber', 'Skey', 'PinExist', 'EmbAndBsegAcctStatus',\n",
       "       'CurrentBalance', 'CardAcceptorNameLocation', 'PrevPINOffSet',\n",
       "       'InvoiceNumber', 'AgingParameter', 'CompletionAmount',\n",
       "       'CrossBorderTxnIndicator', 'MerchantName', 'NetworkReferenceID',\n",
       "       'TraceId', 'CurrentBalanceCO', 'TotalOutStgAuthAmt',\n",
       "       'CurrentBalance_After', 'TotalOutStgAuthAmt_After', 'MulCountSeqNo',\n",
       "       'ActualReversalAmount', 'PreauthorizationKey', 'AuthUniqueId',\n",
       "       'MatchedCriteria', 'ATC', 'PresPropertyInd', 'FraudIndicator'],\n",
       "      dtype='object')"
      ]
     },
     "execution_count": 30,
     "metadata": {},
     "output_type": "execute_result"
    }
   ],
   "source": [
    "df.columns\n"
   ]
  },
  {
   "cell_type": "code",
   "execution_count": 31,
   "metadata": {},
   "outputs": [
    {
     "name": "stdout",
     "output_type": "stream",
     "text": [
      "Index(['TranRef', 'ATID', 'StatementDate', 'SecondaryCurrencyCode',\n",
      "       'TertiaryCurrencyCode', 'NetwrkMgmtInfoCode', 'ReceivingInstIDCode',\n",
      "       'SettlementInstitutionIDCode', 'NetworkReferenceNumber',\n",
      "       'PrevPINOffSet', 'InvoiceNumber', 'NetworkReferenceID',\n",
      "       'PreauthorizationKey', 'PresPropertyInd'],\n",
      "      dtype='object')\n"
     ]
    },
    {
     "data": {
      "text/plain": [
       "14"
      ]
     },
     "execution_count": 31,
     "metadata": {},
     "output_type": "execute_result"
    }
   ],
   "source": [
    "all_null_columns = df.columns[df.isnull().all()]\n",
    "print(all_null_columns)\n",
    "len(all_null_columns)"
   ]
  },
  {
   "cell_type": "code",
   "execution_count": 32,
   "metadata": {},
   "outputs": [
    {
     "data": {
      "text/plain": [
       "Index(['Environment', 'TranId', 'TranTime', 'PostTime', 'TranType',\n",
       "       'TxnAcctId', 'StateStatus', 'priority', 'PrimaryCurrencyCode',\n",
       "       'NetworkName', 'UniqueID', 'MessageTypeIdentifier', 'PAN_Hash',\n",
       "       'ProcCode', 'ProcCodeFromAccType', 'ProcCodeToAccType',\n",
       "       'TransactionAmount', 'TransmissionDateTime', 'SystemTraceAuditNumber',\n",
       "       'TimeLocalTransaction', 'DateLocalTransaction', 'MerchantType',\n",
       "       'RetrievalReferenceNumber', 'IResponseCode', 'ResponseCode',\n",
       "       'ApprovalCode', 'CardAcceptorTerminalID', 'CardAcceptorIdCode',\n",
       "       'AuthorizationResponseCode', 'EffectiveDate_ForAgeOff',\n",
       "       'TransactionLifeCycleUniqueID', 'AuthStatus',\n",
       "       'AcquiringInsitutionIDCode', 'ForwardingInsitutionIDCode',\n",
       "       'POSTransactionStatusInd', 'TxnCategory', 'TxnCode_Internal',\n",
       "       'PurgeDate', 'ResponseTranType', 'ResponseMTI', 'AdvReasonCode',\n",
       "       'AVResponse', 'PostingRef', 'PhysicalSource', 'TerminalType',\n",
       "       'TxnSource', 'Field112', 'CalcOTB', 'AuthVarianceException',\n",
       "       'MsgIndicator', 'TxnSubCategory', 'AccountNumber', 'CardNumber4Digits',\n",
       "       'CashBackAmount', 'OutstandingAmount', 'BankNetReferenceNumber', 'Skey',\n",
       "       'PinExist', 'EmbAndBsegAcctStatus', 'CurrentBalance',\n",
       "       'CardAcceptorNameLocation', 'AgingParameter', 'CompletionAmount',\n",
       "       'CrossBorderTxnIndicator', 'MerchantName', 'NetworkReferenceID',\n",
       "       'TraceId', 'CurrentBalanceCO', 'TotalOutStgAuthAmt',\n",
       "       'CurrentBalance_After', 'TotalOutStgAuthAmt_After', 'MulCountSeqNo',\n",
       "       'ActualReversalAmount', 'AuthUniqueId', 'MatchedCriteria', 'ATC',\n",
       "       'FraudIndicator', 'StateCode', 'WeekOfMonth', 'MerchantGroup',\n",
       "       'CityName', 'IRC_Description', 'POS_entrymode', 'Latitude', 'Longitude',\n",
       "       'Status'],\n",
       "      dtype='object')"
      ]
     },
     "execution_count": 32,
     "metadata": {},
     "output_type": "execute_result"
    }
   ],
   "source": [
    "df_new.columns"
   ]
  },
  {
   "cell_type": "code",
   "execution_count": 33,
   "metadata": {},
   "outputs": [
    {
     "data": {
      "text/plain": [
       "86"
      ]
     },
     "execution_count": 33,
     "metadata": {},
     "output_type": "execute_result"
    }
   ],
   "source": [
    "len(df_new.columns)"
   ]
  }
 ],
 "metadata": {
  "kernelspec": {
   "display_name": ".venv",
   "language": "python",
   "name": "python3"
  },
  "language_info": {
   "codemirror_mode": {
    "name": "ipython",
    "version": 3
   },
   "file_extension": ".py",
   "mimetype": "text/x-python",
   "name": "python",
   "nbconvert_exporter": "python",
   "pygments_lexer": "ipython3",
   "version": "3.11.4"
  },
  "orig_nbformat": 4
 },
 "nbformat": 4,
 "nbformat_minor": 2
}
